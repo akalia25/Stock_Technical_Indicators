{
 "cells": [
  {
   "cell_type": "code",
   "execution_count": 20,
   "metadata": {},
   "outputs": [
    {
     "name": "stdout",
     "output_type": "stream",
     "text": [
      "why we using python 2.7\n"
     ]
    }
   ],
   "source": [
    "import pandas as pd\n",
    "\n",
    "def Sma_Ema():\n",
    "    print \"hello sma ema\"\n",
    "    \n",
    "def RSI():\n",
    "    print \"hello rsi\"\n",
    "    \n",
    "def Bollinger():\n",
    "    print \"hello Bollinger\"\n",
    "\n",
    "#three dataframes are called DJIdata,NASDAQ30data and AAPLdata     \n",
    "#---------------------------------------------------\n",
    "def load_data(s):\n",
    "    data = pd.read_csv(\"{}.csv\".format(s))\n",
    "    #change string into date format\n",
    "    data['Date']= pd.to_datetime(data['Date'], format=\"%Y/%m/%d %H:%M:%S\")\n",
    "    return data\n",
    "def normalize(dfdata):\n",
    "    #divide last element in df series\n",
    "    day1= float(dfdata['Close'].iloc[[-1]])\n",
    "    #div function https://stackoverflow.com/a/43675057\n",
    "    dfdata['Close']=dfdata['Close'].div(day1)\n",
    "    return dfdata\n",
    "\n",
    "#appl data has different order than the other two\n",
    "def aaplnormalize(dfdata):\n",
    "    #divide last element in df series\n",
    "    day1= float(dfdata['Close'].iloc[[0]])\n",
    "    #div function https://stackoverflow.com/a/43675057\n",
    "    dfdata['Close']=dfdata['Close'].div(day1)\n",
    "    return dfdata\n",
    "\n",
    "if __name__== \"__main__\":\n",
    "    print \"why we using python 2.7\"\n",
    "    #-----------Data Input-------------------\n",
    "    s = 'DJI30'\n",
    "    DJIdata = load_data(s)\n",
    "    DJIdata=normalize(DJIdata)\n",
    "    \n",
    "    s = 'NASDAQ30'\n",
    "    NASDAQ30data = load_data(s)\n",
    "    NASDAQ30data=normalize(NASDAQ30data)\n",
    "    \n",
    "    s = 'AAPL'\n",
    "    AAPLdata = load_data(s)\n",
    "    AAPLdata=aaplnormalize(AAPLdata)\n",
    "    #----------------------------------------\n",
    "    \n",
    "    "
   ]
  },
  {
   "cell_type": "code",
   "execution_count": null,
   "metadata": {},
   "outputs": [],
   "source": []
  }
 ],
 "metadata": {
  "kernelspec": {
   "display_name": "Python 2",
   "language": "python",
   "name": "python2"
  },
  "language_info": {
   "codemirror_mode": {
    "name": "ipython",
    "version": 2
   },
   "file_extension": ".py",
   "mimetype": "text/x-python",
   "name": "python",
   "nbconvert_exporter": "python",
   "pygments_lexer": "ipython2",
   "version": "2.7.15"
  }
 },
 "nbformat": 4,
 "nbformat_minor": 2
}
